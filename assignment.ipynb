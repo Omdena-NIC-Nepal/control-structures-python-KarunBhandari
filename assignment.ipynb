{
 "cells": [
  {
   "cell_type": "markdown",
   "id": "3f920278-6137-4606-b3cb-f430cf2ad073",
   "metadata": {},
   "source": [
    "<h1>Python Control Structures Assignments</h1>\n"
   ]
  },
  {
   "cell_type": "markdown",
   "id": "178ea01e-6191-4545-9351-e36c8b70a586",
   "metadata": {},
   "source": [
    "### Part 1 Looping Constructs"
   ]
  },
  {
   "cell_type": "markdown",
   "id": "1f99d2af-8d6d-4515-a2fb-5a0fea668efb",
   "metadata": {},
   "source": [
    "#### Task 1: while loop"
   ]
  },
  {
   "cell_type": "code",
   "execution_count": null,
   "id": "402c75f7-41ef-4cbf-a0c0-6b940d91d3e9",
   "metadata": {},
   "outputs": [
    {
     "name": "stdout",
     "output_type": "stream",
     "text": [
      "0\n",
      "2\n",
      "4\n",
      "6\n",
      "8\n",
      "10\n",
      "12\n",
      "14\n"
     ]
    }
   ],
   "source": [
    "number = 0\n",
    "while number <= 20:\n",
    "    if(number % 2 == 0):\n",
    "        if(number >= 16):\n",
    "            break\n",
    "        print(number)\n",
    "    number += 1\n",
    "    "
   ]
  },
  {
   "cell_type": "markdown",
   "id": "9a7a837f-a306-4052-ad8b-41d6fd9dfcf2",
   "metadata": {},
   "source": [
    "#### Task 2: loop with continue\n"
   ]
  },
  {
   "cell_type": "code",
   "execution_count": null,
   "id": "709e3f96-064f-47d4-bb86-559871f88f67",
   "metadata": {},
   "outputs": [
    {
     "name": "stdout",
     "output_type": "stream",
     "text": [
      "1\n",
      "2\n",
      "4\n",
      "5\n",
      "7\n",
      "8\n",
      "10\n",
      "11\n",
      "13\n",
      "14\n"
     ]
    }
   ],
   "source": [
    "for num in range(1, 16):\n",
    "    if(num % 3 == 0):\n",
    "        continue\n",
    "    print(num)"
   ]
  },
  {
   "cell_type": "markdown",
   "id": "a87fcca6-4e91-482b-a1fc-7906f6e7e06d",
   "metadata": {},
   "source": [
    "#### Task 3: if-else statement"
   ]
  },
  {
   "cell_type": "code",
   "execution_count": null,
   "id": "bc5c2d82-e5a3-4672-b126-5b1d51e11608",
   "metadata": {},
   "outputs": [
    {
     "name": "stdout",
     "output_type": "stream",
     "text": [
      "Enter a number:  -3\n"
     ]
    },
    {
     "name": "stdout",
     "output_type": "stream",
     "text": [
      "The number is negative\n"
     ]
    }
   ],
   "source": [
    "def number_classification():\n",
    "    number = int(input(\"Enter a number: \"))\n",
    "    if(number < 0):\n",
    "        print(\"The number is negative\")\n",
    "    elif(number > 0):\n",
    "        print(\"The number is positive\") \n",
    "    else:\n",
    "        print(\"Your entered number is zero\") \n"
   ]
  },
  {
   "cell_type": "markdown",
   "id": "60c7417a-3ab6-4b7a-b19d-a60e047678cb",
   "metadata": {},
   "source": [
    "#### Task 4: Nested loops"
   ]
  },
  {
   "cell_type": "code",
   "execution_count": null,
   "id": "74b87ff5-3f24-4c76-84ca-4664ab73e050",
   "metadata": {},
   "outputs": [
    {
     "name": "stdout",
     "output_type": "stream",
     "text": [
      "Multiplication table of 1\n",
      "1 * 1 = 1\n",
      "1 * 2 = 2\n",
      "1 * 3 = 3\n",
      "1 * 4 = 4\n",
      "1 * 5 = 5\n",
      "Multiplication table of 2\n",
      "2 * 1 = 2\n",
      "2 * 2 = 4\n",
      "2 * 3 = 6\n",
      "2 * 4 = 8\n",
      "2 * 5 = 10\n",
      "Multiplication table of 3\n",
      "3 * 1 = 3\n",
      "3 * 2 = 6\n",
      "3 * 3 = 9\n",
      "3 * 4 = 12\n",
      "3 * 5 = 15\n",
      "Multiplication table of 4\n",
      "4 * 1 = 4\n",
      "4 * 2 = 8\n",
      "4 * 3 = 12\n",
      "4 * 4 = 16\n",
      "4 * 5 = 20\n",
      "Multiplication table of 5\n",
      "5 * 1 = 5\n",
      "5 * 2 = 10\n",
      "5 * 3 = 15\n",
      "5 * 4 = 20\n",
      "5 * 5 = 25\n"
     ]
    }
   ],
   "source": [
    "for i in range(1, 6):\n",
    "    print(f\"Multiplication table of {i}\")\n",
    "    for j in range(1, 6):\n",
    "        print(f\"{i} * {j} = {i*j}\")\n",
    "        "
   ]
  },
  {
   "cell_type": "code",
   "execution_count": null,
   "id": "442b282e-a080-4329-8289-d5b547e679d1",
   "metadata": {},
   "outputs": [],
   "source": []
  }
 ],
 "metadata": {
  "kernelspec": {
   "display_name": "Python [conda env:base] *",
   "language": "python",
   "name": "conda-base-py"
  },
  "language_info": {
   "codemirror_mode": {
    "name": "ipython",
    "version": 3
   },
   "file_extension": ".py",
   "mimetype": "text/x-python",
   "name": "python",
   "nbconvert_exporter": "python",
   "pygments_lexer": "ipython3",
   "version": "3.12.7"
  }
 },
 "nbformat": 4,
 "nbformat_minor": 5
}
